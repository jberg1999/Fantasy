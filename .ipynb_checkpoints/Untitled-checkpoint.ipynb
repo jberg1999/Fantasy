{
 "cells": [
  {
   "cell_type": "code",
   "execution_count": null,
   "metadata": {},
   "outputs": [],
   "source": [
    "import pandas as pd\n",
    "import matplotlib.pyplot as plt\n",
    "df = pd.read_csv(\"data/yearly/2010.csv\", index_col=False)\n",
    "df[\"Year\"] = \"2010\"\n",
    "#df[\"Id\"] = df[\"Player\"] + \" \" + df[\"Year\"]\n",
    "#df.set_index(\"Id\")\n",
    "print(df)\n",
    "print(df.columns)\n",
    "#df[\"ReceivingTD\"].plot.hist()\n",
    "#plt.show()\n",
    "\n",
    "\n",
    "path = \"data/yearly/2019.csv\"\n",
    "for year in range(2011,2020):\n",
    "    newpath = path.replace(\"2019\", str(year))\n",
    "    new_df = pd.read_csv(newpath, index_col=False)\n",
    "    new_df[\"Year\"] = str(year)\n",
    "    #new_df[\"Id\"] = new_df[\"Player\"] + \" \" + new_df[\"Year\"]\n",
    "    print(new_df)\n",
    "    df = df.merge(new_df,how=\"outer\")\n",
    "\n",
    "df[\"Id\"] = df[\"Player\"] + \" \" + df[\"Year\"]\n",
    "df = df.set_index(\"Id\")\n",
    "print(df)"
   ]
  }
 ],
 "metadata": {
  "kernelspec": {
   "display_name": "Python 3",
   "language": "python",
   "name": "python3"
  },
  "language_info": {
   "codemirror_mode": {
    "name": "ipython",
    "version": 3
   },
   "file_extension": ".py",
   "mimetype": "text/x-python",
   "name": "python",
   "nbconvert_exporter": "python",
   "pygments_lexer": "ipython3",
   "version": "3.8.5"
  }
 },
 "nbformat": 4,
 "nbformat_minor": 4
}
